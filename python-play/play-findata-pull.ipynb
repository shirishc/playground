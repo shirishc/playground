{
 "cells": [
  {
   "cell_type": "code",
   "execution_count": 214,
   "metadata": {
    "collapsed": true
   },
   "outputs": [],
   "source": [
    "from datetime import datetime as dt\n",
    "import os\n",
    "import pandas as pd\n",
    "from pandas_datareader.data import DataReader\n",
    "import time\n",
    "\n",
    "# Get out the results data\n",
    "df_res = pd.read_csv(\"../data/2914_rets.csv\", usecols=['Date','roughly_cum_rets_long', 'roughly_cum_rets_long_short',\n",
    "       'security_cum_rets'])\n",
    "df_res.index = df_res[\"Date\"]\n",
    "df_res = df_res.rename(columns = {'Date':'res_date'})\n",
    "start_date = min(df_res[\"res_date\"])\n",
    "end_date = max(df_res[\"res_date\"])\n",
    "\n",
    "# Get the indicators data\n",
    "df_ind = pd.read_csv(\"../data/indicator2-history.csv\", usecols=[\"reuters_ticker\",'market_date','indicator'])\n",
    "df_ind.index = df_ind[\"market_date\"]\n",
    "df_ind = df_ind.rename(columns = {'market_date':'ind_date'})\n",
    "\n",
    "# Prepare the time series \n",
    "TICKER = \"TSE/2914\"\n",
    "TS_SOURCE = \"quandl\" # \"google\"\"\n",
    "df_ts = None\n",
    "try:\n",
    "    df_ts = DataReader(TICKER, TS_SOURCE, start_date, end_date)\n",
    "#                     dt.datetime(2017, 1, 1),\n",
    "#                     dt.datetime.now())\n",
    "except:\n",
    "    print('Data is not available for {}'.format(ticker))\n",
    "\n",
    "df_ts[\"ts_date\"] = df_ts.index\n",
    "df_ts[\"ts_date\"] = df_ts[\"ts_date\"].apply(lambda x : str(x.date()))\n",
    "df_ts.index = df_ts[\"ts_date\"]\n"
   ]
  },
  {
   "cell_type": "code",
   "execution_count": null,
   "metadata": {
    "collapsed": true
   },
   "outputs": [],
   "source": []
  },
  {
   "cell_type": "code",
   "execution_count": 215,
   "metadata": {
    "collapsed": false
   },
   "outputs": [
    {
     "data": {
      "text/plain": [
       "('2015-04-10', '2017-02-27')"
      ]
     },
     "execution_count": 215,
     "metadata": {},
     "output_type": "execute_result"
    }
   ],
   "source": [
    "df2914 = df_ind[(df_ind[\"reuters_ticker\"]==\"2914.T\") & (df_ind[\"ind_date\"]>=start_date) & (df_ind[\"ind_date\"]<=end_date)]\n",
    "min(df2914[\"ind_date\"]), max(df2914[\"ind_date\"])"
   ]
  },
  {
   "cell_type": "code",
   "execution_count": null,
   "metadata": {
    "collapsed": true
   },
   "outputs": [],
   "source": []
  },
  {
   "cell_type": "code",
   "execution_count": 216,
   "metadata": {
    "collapsed": false
   },
   "outputs": [
    {
     "data": {
      "text/plain": [
       "('2015-04-10', '2017-02-27')"
      ]
     },
     "execution_count": 216,
     "metadata": {},
     "output_type": "execute_result"
    }
   ],
   "source": [
    "min(df_res[\"res_date\"]), max(df_res[\"res_date\"]) "
   ]
  },
  {
   "cell_type": "code",
   "execution_count": null,
   "metadata": {
    "collapsed": true
   },
   "outputs": [],
   "source": []
  },
  {
   "cell_type": "code",
   "execution_count": 217,
   "metadata": {
    "collapsed": false
   },
   "outputs": [
    {
     "name": "stdout",
     "output_type": "stream",
     "text": [
      "(9335521, 3)\n",
      "(460, 6)\n",
      "(492, 3)\n",
      "(460, 4)\n"
     ]
    }
   ],
   "source": [
    "print(df_ind.shape)\n",
    "print(df_ts.shape)\n",
    "print(df2914.shape)\n",
    "print(df_res.shape)\n"
   ]
  },
  {
   "cell_type": "code",
   "execution_count": 197,
   "metadata": {
    "collapsed": false
   },
   "outputs": [
    {
     "data": {
      "text/plain": [
       "32"
      ]
     },
     "execution_count": 197,
     "metadata": {},
     "output_type": "execute_result"
    }
   ],
   "source": [
    "len(set(df2914[\"ind_date\"])-set(df_res[\"res_date\"]))"
   ]
  },
  {
   "cell_type": "code",
   "execution_count": 218,
   "metadata": {
    "collapsed": false
   },
   "outputs": [
    {
     "data": {
      "text/plain": [
       "0"
      ]
     },
     "execution_count": 218,
     "metadata": {},
     "output_type": "execute_result"
    }
   ],
   "source": [
    "len(set(df_res[\"res_date\"])-set(df_ts.index))"
   ]
  },
  {
   "cell_type": "code",
   "execution_count": 204,
   "metadata": {
    "collapsed": false
   },
   "outputs": [
    {
     "name": "stdout",
     "output_type": "stream",
     "text": [
      "2015-04-10\n",
      "2015-04-10\n",
      "2017-02-27\n"
     ]
    }
   ],
   "source": [
    "print(df2914[\"ind_date\"].iloc[0])\n",
    "print(df_res[\"res_date\"].iloc[0])\n",
    "print(df_ts[\"ts_date\"].iloc[0])"
   ]
  },
  {
   "cell_type": "code",
   "execution_count": 219,
   "metadata": {
    "collapsed": false
   },
   "outputs": [
    {
     "data": {
      "text/html": [
       "<div>\n",
       "<style>\n",
       "    .dataframe thead tr:only-child th {\n",
       "        text-align: right;\n",
       "    }\n",
       "\n",
       "    .dataframe thead th {\n",
       "        text-align: left;\n",
       "    }\n",
       "\n",
       "    .dataframe tbody tr th {\n",
       "        vertical-align: top;\n",
       "    }\n",
       "</style>\n",
       "<table border=\"1\" class=\"dataframe\">\n",
       "  <thead>\n",
       "    <tr style=\"text-align: right;\">\n",
       "      <th></th>\n",
       "      <th>ind_date</th>\n",
       "      <th>reuters_ticker</th>\n",
       "      <th>indicator</th>\n",
       "    </tr>\n",
       "    <tr>\n",
       "      <th>market_date</th>\n",
       "      <th></th>\n",
       "      <th></th>\n",
       "      <th></th>\n",
       "    </tr>\n",
       "  </thead>\n",
       "  <tbody>\n",
       "    <tr>\n",
       "      <th>2015-04-10</th>\n",
       "      <td>2015-04-10</td>\n",
       "      <td>2914.T</td>\n",
       "      <td>8</td>\n",
       "    </tr>\n",
       "    <tr>\n",
       "      <th>2015-04-13</th>\n",
       "      <td>2015-04-13</td>\n",
       "      <td>2914.T</td>\n",
       "      <td>9</td>\n",
       "    </tr>\n",
       "    <tr>\n",
       "      <th>2015-04-14</th>\n",
       "      <td>2015-04-14</td>\n",
       "      <td>2914.T</td>\n",
       "      <td>9</td>\n",
       "    </tr>\n",
       "    <tr>\n",
       "      <th>2015-04-15</th>\n",
       "      <td>2015-04-15</td>\n",
       "      <td>2914.T</td>\n",
       "      <td>9</td>\n",
       "    </tr>\n",
       "    <tr>\n",
       "      <th>2015-04-16</th>\n",
       "      <td>2015-04-16</td>\n",
       "      <td>2914.T</td>\n",
       "      <td>9</td>\n",
       "    </tr>\n",
       "  </tbody>\n",
       "</table>\n",
       "</div>"
      ],
      "text/plain": [
       "               ind_date reuters_ticker  indicator\n",
       "market_date                                      \n",
       "2015-04-10   2015-04-10         2914.T          8\n",
       "2015-04-13   2015-04-13         2914.T          9\n",
       "2015-04-14   2015-04-14         2914.T          9\n",
       "2015-04-15   2015-04-15         2914.T          9\n",
       "2015-04-16   2015-04-16         2914.T          9"
      ]
     },
     "execution_count": 219,
     "metadata": {},
     "output_type": "execute_result"
    }
   ],
   "source": [
    "df2914.head()"
   ]
  },
  {
   "cell_type": "code",
   "execution_count": 220,
   "metadata": {
    "collapsed": true
   },
   "outputs": [],
   "source": [
    "mother_df = pd.concat([df_ts, df_res, df2914], axis=1, join='inner')"
   ]
  },
  {
   "cell_type": "code",
   "execution_count": 221,
   "metadata": {
    "collapsed": false
   },
   "outputs": [
    {
     "data": {
      "text/html": [
       "<div>\n",
       "<style>\n",
       "    .dataframe thead tr:only-child th {\n",
       "        text-align: right;\n",
       "    }\n",
       "\n",
       "    .dataframe thead th {\n",
       "        text-align: left;\n",
       "    }\n",
       "\n",
       "    .dataframe tbody tr th {\n",
       "        vertical-align: top;\n",
       "    }\n",
       "</style>\n",
       "<table border=\"1\" class=\"dataframe\">\n",
       "  <thead>\n",
       "    <tr style=\"text-align: right;\">\n",
       "      <th></th>\n",
       "      <th>Open</th>\n",
       "      <th>High</th>\n",
       "      <th>Low</th>\n",
       "      <th>Close</th>\n",
       "      <th>Volume</th>\n",
       "      <th>ts_date</th>\n",
       "      <th>res_date</th>\n",
       "      <th>roughly_cum_rets_long</th>\n",
       "      <th>roughly_cum_rets_long_short</th>\n",
       "      <th>security_cum_rets</th>\n",
       "      <th>ind_date</th>\n",
       "      <th>reuters_ticker</th>\n",
       "      <th>indicator</th>\n",
       "    </tr>\n",
       "  </thead>\n",
       "  <tbody>\n",
       "    <tr>\n",
       "      <th>2017-02-27</th>\n",
       "      <td>3785.0</td>\n",
       "      <td>3800.0</td>\n",
       "      <td>3748.0</td>\n",
       "      <td>3778.0</td>\n",
       "      <td>3151200.0</td>\n",
       "      <td>2017-02-27</td>\n",
       "      <td>2017-02-27</td>\n",
       "      <td>0.990539</td>\n",
       "      <td>1.140525</td>\n",
       "      <td>0.931460</td>\n",
       "      <td>2017-02-27</td>\n",
       "      <td>2914.T</td>\n",
       "      <td>10</td>\n",
       "    </tr>\n",
       "    <tr>\n",
       "      <th>2017-02-24</th>\n",
       "      <td>3825.0</td>\n",
       "      <td>3832.0</td>\n",
       "      <td>3791.0</td>\n",
       "      <td>3805.0</td>\n",
       "      <td>2867500.0</td>\n",
       "      <td>2017-02-24</td>\n",
       "      <td>2017-02-24</td>\n",
       "      <td>0.990539</td>\n",
       "      <td>1.140420</td>\n",
       "      <td>0.938116</td>\n",
       "      <td>2017-02-24</td>\n",
       "      <td>2914.T</td>\n",
       "      <td>10</td>\n",
       "    </tr>\n",
       "    <tr>\n",
       "      <th>2017-02-23</th>\n",
       "      <td>3800.0</td>\n",
       "      <td>3818.0</td>\n",
       "      <td>3777.0</td>\n",
       "      <td>3811.0</td>\n",
       "      <td>2790800.0</td>\n",
       "      <td>2017-02-23</td>\n",
       "      <td>2017-02-23</td>\n",
       "      <td>0.990539</td>\n",
       "      <td>1.139965</td>\n",
       "      <td>0.939596</td>\n",
       "      <td>2017-02-23</td>\n",
       "      <td>2914.T</td>\n",
       "      <td>10</td>\n",
       "    </tr>\n",
       "    <tr>\n",
       "      <th>2017-02-22</th>\n",
       "      <td>3783.0</td>\n",
       "      <td>3808.0</td>\n",
       "      <td>3771.0</td>\n",
       "      <td>3798.0</td>\n",
       "      <td>3451700.0</td>\n",
       "      <td>2017-02-22</td>\n",
       "      <td>2017-02-22</td>\n",
       "      <td>0.990539</td>\n",
       "      <td>1.139242</td>\n",
       "      <td>0.936391</td>\n",
       "      <td>2017-02-22</td>\n",
       "      <td>2914.T</td>\n",
       "      <td>10</td>\n",
       "    </tr>\n",
       "    <tr>\n",
       "      <th>2017-02-21</th>\n",
       "      <td>3770.0</td>\n",
       "      <td>3781.0</td>\n",
       "      <td>3753.0</td>\n",
       "      <td>3778.0</td>\n",
       "      <td>2772900.0</td>\n",
       "      <td>2017-02-21</td>\n",
       "      <td>2017-02-21</td>\n",
       "      <td>0.990539</td>\n",
       "      <td>1.138203</td>\n",
       "      <td>0.931460</td>\n",
       "      <td>2017-02-21</td>\n",
       "      <td>2914.T</td>\n",
       "      <td>10</td>\n",
       "    </tr>\n",
       "  </tbody>\n",
       "</table>\n",
       "</div>"
      ],
      "text/plain": [
       "              Open    High     Low   Close     Volume     ts_date    res_date  \\\n",
       "2017-02-27  3785.0  3800.0  3748.0  3778.0  3151200.0  2017-02-27  2017-02-27   \n",
       "2017-02-24  3825.0  3832.0  3791.0  3805.0  2867500.0  2017-02-24  2017-02-24   \n",
       "2017-02-23  3800.0  3818.0  3777.0  3811.0  2790800.0  2017-02-23  2017-02-23   \n",
       "2017-02-22  3783.0  3808.0  3771.0  3798.0  3451700.0  2017-02-22  2017-02-22   \n",
       "2017-02-21  3770.0  3781.0  3753.0  3778.0  2772900.0  2017-02-21  2017-02-21   \n",
       "\n",
       "            roughly_cum_rets_long  roughly_cum_rets_long_short  \\\n",
       "2017-02-27               0.990539                     1.140525   \n",
       "2017-02-24               0.990539                     1.140420   \n",
       "2017-02-23               0.990539                     1.139965   \n",
       "2017-02-22               0.990539                     1.139242   \n",
       "2017-02-21               0.990539                     1.138203   \n",
       "\n",
       "            security_cum_rets    ind_date reuters_ticker  indicator  \n",
       "2017-02-27           0.931460  2017-02-27         2914.T         10  \n",
       "2017-02-24           0.938116  2017-02-24         2914.T         10  \n",
       "2017-02-23           0.939596  2017-02-23         2914.T         10  \n",
       "2017-02-22           0.936391  2017-02-22         2914.T         10  \n",
       "2017-02-21           0.931460  2017-02-21         2914.T         10  "
      ]
     },
     "execution_count": 221,
     "metadata": {},
     "output_type": "execute_result"
    }
   ],
   "source": [
    "mother_df.head()"
   ]
  },
  {
   "cell_type": "code",
   "execution_count": 222,
   "metadata": {
    "collapsed": false
   },
   "outputs": [
    {
     "data": {
      "text/plain": [
       "ind_date          2017-02-22\n",
       "reuters_ticker        2914.T\n",
       "indicator                 10\n",
       "Name: 2017-02-22, dtype: object"
      ]
     },
     "execution_count": 222,
     "metadata": {},
     "output_type": "execute_result"
    }
   ],
   "source": [
    "df2914.loc[\"2017-02-22\"]\n",
    "\n"
   ]
  },
  {
   "cell_type": "code",
   "execution_count": 223,
   "metadata": {
    "collapsed": false
   },
   "outputs": [
    {
     "data": {
      "text/plain": [
       "res_date                       2017-02-22\n",
       "roughly_cum_rets_long            0.990539\n",
       "roughly_cum_rets_long_short       1.13924\n",
       "security_cum_rets                0.936391\n",
       "Name: 2017-02-22, dtype: object"
      ]
     },
     "execution_count": 223,
     "metadata": {},
     "output_type": "execute_result"
    }
   ],
   "source": [
    "df_res.loc[\"2017-02-22\"]"
   ]
  },
  {
   "cell_type": "code",
   "execution_count": 224,
   "metadata": {
    "collapsed": false
   },
   "outputs": [
    {
     "data": {
      "text/plain": [
       "Open             3783\n",
       "High             3808\n",
       "Low              3771\n",
       "Close            3798\n",
       "Volume     3.4517e+06\n",
       "ts_date    2017-02-22\n",
       "Name: 2017-02-22, dtype: object"
      ]
     },
     "execution_count": 224,
     "metadata": {},
     "output_type": "execute_result"
    }
   ],
   "source": [
    "df_ts.loc[\"2017-02-22\"]"
   ]
  },
  {
   "cell_type": "code",
   "execution_count": null,
   "metadata": {
    "collapsed": true
   },
   "outputs": [],
   "source": []
  }
 ],
 "metadata": {
  "anaconda-cloud": {},
  "kernelspec": {
   "display_name": "Python [conda env:gl-env]",
   "language": "python",
   "name": "conda-env-gl-env-py"
  },
  "language_info": {
   "codemirror_mode": {
    "name": "ipython",
    "version": 3
   },
   "file_extension": ".py",
   "mimetype": "text/x-python",
   "name": "python",
   "nbconvert_exporter": "python",
   "pygments_lexer": "ipython3",
   "version": "3.6.2"
  }
 },
 "nbformat": 4,
 "nbformat_minor": 2
}
